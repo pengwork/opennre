{
  "nbformat": 4,
  "nbformat_minor": 0,
  "metadata": {
    "colab": {
      "name": "Untitled",
      "provenance": [],
      "collapsed_sections": [],
      "mount_file_id": "https://github.com/pengwork/opennre/blob/master/Untitled.ipynb",
      "authorship_tag": "ABX9TyOV1raDN48sTYig961lEPaM",
      "include_colab_link": true
    },
    "kernelspec": {
      "name": "python3",
      "display_name": "Python 3"
    },
    "accelerator": "GPU"
  },
  "cells": [
    {
      "cell_type": "markdown",
      "metadata": {
        "id": "view-in-github",
        "colab_type": "text"
      },
      "source": [
        "<a href=\"https://colab.research.google.com/github/pengwork/opennre/blob/master/Untitled.ipynb\" target=\"_parent\"><img src=\"https://colab.research.google.com/assets/colab-badge.svg\" alt=\"Open In Colab\"/></a>"
      ]
    },
    {
      "cell_type": "code",
      "metadata": {
        "id": "jOhipxs-FO2z",
        "colab_type": "code",
        "outputId": "2f4ea75a-cdc8-4f88-9240-07c7926fe498",
        "colab": {
          "base_uri": "https://localhost:8080/",
          "height": 35
        }
      },
      "source": [
        "ls"
      ],
      "execution_count": 1,
      "outputs": [
        {
          "output_type": "stream",
          "text": [
            "\u001b[0m\u001b[01;34mdrive\u001b[0m/  nyt_wikidata.zip  \u001b[01;34msample_data\u001b[0m/\n"
          ],
          "name": "stdout"
        }
      ]
    },
    {
      "cell_type": "code",
      "metadata": {
        "id": "gFDPK-9kF0dk",
        "colab_type": "code",
        "colab": {}
      },
      "source": [
        "from google.colab import drive\n",
        "drive.mount('/content/drive')"
      ],
      "execution_count": 0,
      "outputs": []
    },
    {
      "cell_type": "code",
      "metadata": {
        "id": "zK0Q6xNPHMlN",
        "colab_type": "code",
        "outputId": "0dbb78d4-dffe-4cf9-bcc3-03791761027c",
        "colab": {
          "base_uri": "https://localhost:8080/",
          "height": 141
        }
      },
      "source": [
        "!git clone https://github.com/thunlp/OpenNRE.git"
      ],
      "execution_count": 2,
      "outputs": [
        {
          "output_type": "stream",
          "text": [
            "Cloning into 'OpenNRE'...\n",
            "remote: Enumerating objects: 54, done.\u001b[K\n",
            "remote: Counting objects:   1% (1/54)\u001b[K\rremote: Counting objects:   3% (2/54)\u001b[K\rremote: Counting objects:   5% (3/54)\u001b[K\rremote: Counting objects:   7% (4/54)\u001b[K\rremote: Counting objects:   9% (5/54)\u001b[K\rremote: Counting objects:  11% (6/54)\u001b[K\rremote: Counting objects:  12% (7/54)\u001b[K\rremote: Counting objects:  14% (8/54)\u001b[K\rremote: Counting objects:  16% (9/54)\u001b[K\rremote: Counting objects:  18% (10/54)\u001b[K\rremote: Counting objects:  20% (11/54)\u001b[K\rremote: Counting objects:  22% (12/54)\u001b[K\rremote: Counting objects:  24% (13/54)\u001b[K\rremote: Counting objects:  25% (14/54)\u001b[K\rremote: Counting objects:  27% (15/54)\u001b[K\rremote: Counting objects:  29% (16/54)\u001b[K\rremote: Counting objects:  31% (17/54)\u001b[K\rremote: Counting objects:  33% (18/54)\u001b[K\rremote: Counting objects:  35% (19/54)\u001b[K\rremote: Counting objects:  37% (20/54)\u001b[K\rremote: Counting objects:  38% (21/54)\u001b[K\rremote: Counting objects:  40% (22/54)\u001b[K\rremote: Counting objects:  42% (23/54)\u001b[K\rremote: Counting objects:  44% (24/54)\u001b[K\rremote: Counting objects:  46% (25/54)\u001b[K\rremote: Counting objects:  48% (26/54)\u001b[K\rremote: Counting objects:  50% (27/54)\u001b[K\rremote: Counting objects:  51% (28/54)\u001b[K\rremote: Counting objects:  53% (29/54)\u001b[K\rremote: Counting objects:  55% (30/54)\u001b[K\rremote: Counting objects:  57% (31/54)\u001b[K\rremote: Counting objects:  59% (32/54)\u001b[K\rremote: Counting objects:  61% (33/54)\u001b[K\rremote: Counting objects:  62% (34/54)\u001b[K\rremote: Counting objects:  64% (35/54)\u001b[K\rremote: Counting objects:  66% (36/54)\u001b[K\rremote: Counting objects:  68% (37/54)\u001b[K\rremote: Counting objects:  70% (38/54)\u001b[K\rremote: Counting objects:  72% (39/54)\u001b[K\rremote: Counting objects:  74% (40/54)\u001b[K\rremote: Counting objects:  75% (41/54)\u001b[K\rremote: Counting objects:  77% (42/54)\u001b[K\rremote: Counting objects:  79% (43/54)\u001b[K\rremote: Counting objects:  81% (44/54)\u001b[K\rremote: Counting objects:  83% (45/54)\u001b[K\rremote: Counting objects:  85% (46/54)\u001b[K\rremote: Counting objects:  87% (47/54)\u001b[K\rremote: Counting objects:  88% (48/54)\u001b[K\rremote: Counting objects:  90% (49/54)\u001b[K\rremote: Counting objects:  92% (50/54)\u001b[K\rremote: Counting objects:  94% (51/54)\u001b[K\rremote: Counting objects:  96% (52/54)\u001b[K\rremote: Counting objects:  98% (53/54)\u001b[K\rremote: Counting objects: 100% (54/54)\u001b[K\rremote: Counting objects: 100% (54/54), done.\u001b[K\n",
            "remote: Compressing objects: 100% (40/40), done.\u001b[K\n",
            "remote: Total 1316 (delta 32), reused 31 (delta 14), pack-reused 1262\u001b[K\n",
            "Receiving objects: 100% (1316/1316), 266.78 MiB | 30.08 MiB/s, done.\n",
            "Resolving deltas: 100% (770/770), done.\n"
          ],
          "name": "stdout"
        }
      ]
    },
    {
      "cell_type": "code",
      "metadata": {
        "id": "S7BGeC0NHwIZ",
        "colab_type": "code",
        "outputId": "29f2ef0b-d5d2-4d9e-aada-e43d63d3ee65",
        "colab": {
          "base_uri": "https://localhost:8080/",
          "height": 35
        }
      },
      "source": [
        "cd OpenNRE/"
      ],
      "execution_count": 4,
      "outputs": [
        {
          "output_type": "stream",
          "text": [
            "/content/OpenNRE\n"
          ],
          "name": "stdout"
        }
      ]
    },
    {
      "cell_type": "code",
      "metadata": {
        "id": "guR05agrHyas",
        "colab_type": "code",
        "outputId": "f274925f-eeb5-42f7-e31b-974bc7606e8c",
        "colab": {
          "base_uri": "https://localhost:8080/",
          "height": 51
        }
      },
      "source": [
        "ls"
      ],
      "execution_count": 0,
      "outputs": [
        {
          "output_type": "stream",
          "text": [
            "\u001b[0m\u001b[01;34mbenchmark\u001b[0m/  LICENSE   \u001b[01;34mpretrain\u001b[0m/  requirements.txt  \u001b[01;34mtests\u001b[0m/\n",
            "\u001b[01;34mexample\u001b[0m/    \u001b[01;34mopennre\u001b[0m/  README.md  setup.py\n"
          ],
          "name": "stdout"
        }
      ]
    },
    {
      "cell_type": "code",
      "metadata": {
        "id": "U3HwIMtjHzER",
        "colab_type": "code",
        "outputId": "849a817b-7251-457c-c835-f2ede50f5781",
        "colab": {
          "base_uri": "https://localhost:8080/",
          "height": 1000
        }
      },
      "source": [
        "!python setup.py install "
      ],
      "execution_count": 5,
      "outputs": [
        {
          "output_type": "stream",
          "text": [
            "running install\n",
            "running bdist_egg\n",
            "running egg_info\n",
            "creating opennre.egg-info\n",
            "writing opennre.egg-info/PKG-INFO\n",
            "writing dependency_links to opennre.egg-info/dependency_links.txt\n",
            "writing top-level names to opennre.egg-info/top_level.txt\n",
            "writing manifest file 'opennre.egg-info/SOURCES.txt'\n",
            "writing manifest file 'opennre.egg-info/SOURCES.txt'\n",
            "installing library code to build/bdist.linux-x86_64/egg\n",
            "running install_lib\n",
            "running build_py\n",
            "creating build\n",
            "creating build/lib\n",
            "creating build/lib/opennre\n",
            "copying opennre/pretrain.py -> build/lib/opennre\n",
            "copying opennre/__init__.py -> build/lib/opennre\n",
            "creating build/lib/opennre/module\n",
            "copying opennre/module/__init__.py -> build/lib/opennre/module\n",
            "creating build/lib/opennre/model\n",
            "copying opennre/model/bag_attention.py -> build/lib/opennre/model\n",
            "copying opennre/model/bag_average.py -> build/lib/opennre/model\n",
            "copying opennre/model/softmax_nn.py -> build/lib/opennre/model\n",
            "copying opennre/model/__init__.py -> build/lib/opennre/model\n",
            "copying opennre/model/base_model.py -> build/lib/opennre/model\n",
            "creating build/lib/opennre/tokenization\n",
            "copying opennre/tokenization/basic_tokenizer.py -> build/lib/opennre/tokenization\n",
            "copying opennre/tokenization/bert_tokenizer.py -> build/lib/opennre/tokenization\n",
            "copying opennre/tokenization/word_piece_tokenizer.py -> build/lib/opennre/tokenization\n",
            "copying opennre/tokenization/__init__.py -> build/lib/opennre/tokenization\n",
            "copying opennre/tokenization/utils.py -> build/lib/opennre/tokenization\n",
            "copying opennre/tokenization/word_tokenizer.py -> build/lib/opennre/tokenization\n",
            "creating build/lib/opennre/encoder\n",
            "copying opennre/encoder/base_encoder.py -> build/lib/opennre/encoder\n",
            "copying opennre/encoder/cnn_encoder.py -> build/lib/opennre/encoder\n",
            "copying opennre/encoder/pcnn_encoder.py -> build/lib/opennre/encoder\n",
            "copying opennre/encoder/__init__.py -> build/lib/opennre/encoder\n",
            "copying opennre/encoder/bert_encoder.py -> build/lib/opennre/encoder\n",
            "creating build/lib/opennre/framework\n",
            "copying opennre/framework/data_loader.py -> build/lib/opennre/framework\n",
            "copying opennre/framework/bag_re.py -> build/lib/opennre/framework\n",
            "copying opennre/framework/sentence_re.py -> build/lib/opennre/framework\n",
            "copying opennre/framework/__init__.py -> build/lib/opennre/framework\n",
            "copying opennre/framework/utils.py -> build/lib/opennre/framework\n",
            "creating build/lib/opennre/module/pool\n",
            "copying opennre/module/pool/max_pool.py -> build/lib/opennre/module/pool\n",
            "copying opennre/module/pool/__init__.py -> build/lib/opennre/module/pool\n",
            "copying opennre/module/pool/avg_pool.py -> build/lib/opennre/module/pool\n",
            "creating build/lib/opennre/module/nn\n",
            "copying opennre/module/nn/rnn.py -> build/lib/opennre/module/nn\n",
            "copying opennre/module/nn/lstm.py -> build/lib/opennre/module/nn\n",
            "copying opennre/module/nn/cnn.py -> build/lib/opennre/module/nn\n",
            "copying opennre/module/nn/__init__.py -> build/lib/opennre/module/nn\n",
            "creating build/bdist.linux-x86_64\n",
            "creating build/bdist.linux-x86_64/egg\n",
            "creating build/bdist.linux-x86_64/egg/opennre\n",
            "creating build/bdist.linux-x86_64/egg/opennre/module\n",
            "creating build/bdist.linux-x86_64/egg/opennre/module/pool\n",
            "copying build/lib/opennre/module/pool/max_pool.py -> build/bdist.linux-x86_64/egg/opennre/module/pool\n",
            "copying build/lib/opennre/module/pool/__init__.py -> build/bdist.linux-x86_64/egg/opennre/module/pool\n",
            "copying build/lib/opennre/module/pool/avg_pool.py -> build/bdist.linux-x86_64/egg/opennre/module/pool\n",
            "copying build/lib/opennre/module/__init__.py -> build/bdist.linux-x86_64/egg/opennre/module\n",
            "creating build/bdist.linux-x86_64/egg/opennre/module/nn\n",
            "copying build/lib/opennre/module/nn/rnn.py -> build/bdist.linux-x86_64/egg/opennre/module/nn\n",
            "copying build/lib/opennre/module/nn/lstm.py -> build/bdist.linux-x86_64/egg/opennre/module/nn\n",
            "copying build/lib/opennre/module/nn/cnn.py -> build/bdist.linux-x86_64/egg/opennre/module/nn\n",
            "copying build/lib/opennre/module/nn/__init__.py -> build/bdist.linux-x86_64/egg/opennre/module/nn\n",
            "copying build/lib/opennre/pretrain.py -> build/bdist.linux-x86_64/egg/opennre\n",
            "creating build/bdist.linux-x86_64/egg/opennre/model\n",
            "copying build/lib/opennre/model/bag_attention.py -> build/bdist.linux-x86_64/egg/opennre/model\n",
            "copying build/lib/opennre/model/bag_average.py -> build/bdist.linux-x86_64/egg/opennre/model\n",
            "copying build/lib/opennre/model/softmax_nn.py -> build/bdist.linux-x86_64/egg/opennre/model\n",
            "copying build/lib/opennre/model/__init__.py -> build/bdist.linux-x86_64/egg/opennre/model\n",
            "copying build/lib/opennre/model/base_model.py -> build/bdist.linux-x86_64/egg/opennre/model\n",
            "creating build/bdist.linux-x86_64/egg/opennre/tokenization\n",
            "copying build/lib/opennre/tokenization/basic_tokenizer.py -> build/bdist.linux-x86_64/egg/opennre/tokenization\n",
            "copying build/lib/opennre/tokenization/bert_tokenizer.py -> build/bdist.linux-x86_64/egg/opennre/tokenization\n",
            "copying build/lib/opennre/tokenization/word_piece_tokenizer.py -> build/bdist.linux-x86_64/egg/opennre/tokenization\n",
            "copying build/lib/opennre/tokenization/__init__.py -> build/bdist.linux-x86_64/egg/opennre/tokenization\n",
            "copying build/lib/opennre/tokenization/utils.py -> build/bdist.linux-x86_64/egg/opennre/tokenization\n",
            "copying build/lib/opennre/tokenization/word_tokenizer.py -> build/bdist.linux-x86_64/egg/opennre/tokenization\n",
            "copying build/lib/opennre/__init__.py -> build/bdist.linux-x86_64/egg/opennre\n",
            "creating build/bdist.linux-x86_64/egg/opennre/encoder\n",
            "copying build/lib/opennre/encoder/base_encoder.py -> build/bdist.linux-x86_64/egg/opennre/encoder\n",
            "copying build/lib/opennre/encoder/cnn_encoder.py -> build/bdist.linux-x86_64/egg/opennre/encoder\n",
            "copying build/lib/opennre/encoder/pcnn_encoder.py -> build/bdist.linux-x86_64/egg/opennre/encoder\n",
            "copying build/lib/opennre/encoder/__init__.py -> build/bdist.linux-x86_64/egg/opennre/encoder\n",
            "copying build/lib/opennre/encoder/bert_encoder.py -> build/bdist.linux-x86_64/egg/opennre/encoder\n",
            "creating build/bdist.linux-x86_64/egg/opennre/framework\n",
            "copying build/lib/opennre/framework/data_loader.py -> build/bdist.linux-x86_64/egg/opennre/framework\n",
            "copying build/lib/opennre/framework/bag_re.py -> build/bdist.linux-x86_64/egg/opennre/framework\n",
            "copying build/lib/opennre/framework/sentence_re.py -> build/bdist.linux-x86_64/egg/opennre/framework\n",
            "copying build/lib/opennre/framework/__init__.py -> build/bdist.linux-x86_64/egg/opennre/framework\n",
            "copying build/lib/opennre/framework/utils.py -> build/bdist.linux-x86_64/egg/opennre/framework\n",
            "byte-compiling build/bdist.linux-x86_64/egg/opennre/module/pool/max_pool.py to max_pool.cpython-36.pyc\n",
            "byte-compiling build/bdist.linux-x86_64/egg/opennre/module/pool/__init__.py to __init__.cpython-36.pyc\n",
            "byte-compiling build/bdist.linux-x86_64/egg/opennre/module/pool/avg_pool.py to avg_pool.cpython-36.pyc\n",
            "byte-compiling build/bdist.linux-x86_64/egg/opennre/module/__init__.py to __init__.cpython-36.pyc\n",
            "byte-compiling build/bdist.linux-x86_64/egg/opennre/module/nn/rnn.py to rnn.cpython-36.pyc\n",
            "byte-compiling build/bdist.linux-x86_64/egg/opennre/module/nn/lstm.py to lstm.cpython-36.pyc\n",
            "byte-compiling build/bdist.linux-x86_64/egg/opennre/module/nn/cnn.py to cnn.cpython-36.pyc\n",
            "byte-compiling build/bdist.linux-x86_64/egg/opennre/module/nn/__init__.py to __init__.cpython-36.pyc\n",
            "byte-compiling build/bdist.linux-x86_64/egg/opennre/pretrain.py to pretrain.cpython-36.pyc\n",
            "byte-compiling build/bdist.linux-x86_64/egg/opennre/model/bag_attention.py to bag_attention.cpython-36.pyc\n",
            "byte-compiling build/bdist.linux-x86_64/egg/opennre/model/bag_average.py to bag_average.cpython-36.pyc\n",
            "byte-compiling build/bdist.linux-x86_64/egg/opennre/model/softmax_nn.py to softmax_nn.cpython-36.pyc\n",
            "byte-compiling build/bdist.linux-x86_64/egg/opennre/model/__init__.py to __init__.cpython-36.pyc\n",
            "byte-compiling build/bdist.linux-x86_64/egg/opennre/model/base_model.py to base_model.cpython-36.pyc\n",
            "byte-compiling build/bdist.linux-x86_64/egg/opennre/tokenization/basic_tokenizer.py to basic_tokenizer.cpython-36.pyc\n",
            "byte-compiling build/bdist.linux-x86_64/egg/opennre/tokenization/bert_tokenizer.py to bert_tokenizer.cpython-36.pyc\n",
            "byte-compiling build/bdist.linux-x86_64/egg/opennre/tokenization/word_piece_tokenizer.py to word_piece_tokenizer.cpython-36.pyc\n",
            "byte-compiling build/bdist.linux-x86_64/egg/opennre/tokenization/__init__.py to __init__.cpython-36.pyc\n",
            "byte-compiling build/bdist.linux-x86_64/egg/opennre/tokenization/utils.py to utils.cpython-36.pyc\n",
            "byte-compiling build/bdist.linux-x86_64/egg/opennre/tokenization/word_tokenizer.py to word_tokenizer.cpython-36.pyc\n",
            "byte-compiling build/bdist.linux-x86_64/egg/opennre/__init__.py to __init__.cpython-36.pyc\n",
            "byte-compiling build/bdist.linux-x86_64/egg/opennre/encoder/base_encoder.py to base_encoder.cpython-36.pyc\n",
            "byte-compiling build/bdist.linux-x86_64/egg/opennre/encoder/cnn_encoder.py to cnn_encoder.cpython-36.pyc\n",
            "byte-compiling build/bdist.linux-x86_64/egg/opennre/encoder/pcnn_encoder.py to pcnn_encoder.cpython-36.pyc\n",
            "byte-compiling build/bdist.linux-x86_64/egg/opennre/encoder/__init__.py to __init__.cpython-36.pyc\n",
            "byte-compiling build/bdist.linux-x86_64/egg/opennre/encoder/bert_encoder.py to bert_encoder.cpython-36.pyc\n",
            "byte-compiling build/bdist.linux-x86_64/egg/opennre/framework/data_loader.py to data_loader.cpython-36.pyc\n",
            "byte-compiling build/bdist.linux-x86_64/egg/opennre/framework/bag_re.py to bag_re.cpython-36.pyc\n",
            "byte-compiling build/bdist.linux-x86_64/egg/opennre/framework/sentence_re.py to sentence_re.cpython-36.pyc\n",
            "byte-compiling build/bdist.linux-x86_64/egg/opennre/framework/__init__.py to __init__.cpython-36.pyc\n",
            "byte-compiling build/bdist.linux-x86_64/egg/opennre/framework/utils.py to utils.cpython-36.pyc\n",
            "creating build/bdist.linux-x86_64/egg/EGG-INFO\n",
            "copying opennre.egg-info/PKG-INFO -> build/bdist.linux-x86_64/egg/EGG-INFO\n",
            "copying opennre.egg-info/SOURCES.txt -> build/bdist.linux-x86_64/egg/EGG-INFO\n",
            "copying opennre.egg-info/dependency_links.txt -> build/bdist.linux-x86_64/egg/EGG-INFO\n",
            "copying opennre.egg-info/top_level.txt -> build/bdist.linux-x86_64/egg/EGG-INFO\n",
            "zip_safe flag not set; analyzing archive contents...\n",
            "creating dist\n",
            "creating 'dist/opennre-0.1-py3.6.egg' and adding 'build/bdist.linux-x86_64/egg' to it\n",
            "removing 'build/bdist.linux-x86_64/egg' (and everything under it)\n",
            "Processing opennre-0.1-py3.6.egg\n",
            "Copying opennre-0.1-py3.6.egg to /usr/local/lib/python3.6/dist-packages\n",
            "Adding opennre 0.1 to easy-install.pth file\n",
            "\n",
            "Installed /usr/local/lib/python3.6/dist-packages/opennre-0.1-py3.6.egg\n",
            "Processing dependencies for opennre==0.1\n",
            "Finished processing dependencies for opennre==0.1\n"
          ],
          "name": "stdout"
        }
      ]
    },
    {
      "cell_type": "code",
      "metadata": {
        "id": "etHVZydbH07v",
        "colab_type": "code",
        "outputId": "f95da035-2c29-46a2-fc3b-a1539ab8d100",
        "colab": {
          "base_uri": "https://localhost:8080/",
          "height": 712
        }
      },
      "source": [
        "!pip install transformers"
      ],
      "execution_count": 6,
      "outputs": [
        {
          "output_type": "stream",
          "text": [
            "Collecting transformers\n",
            "\u001b[?25l  Downloading https://files.pythonhosted.org/packages/a3/78/92cedda05552398352ed9784908b834ee32a0bd071a9b32de287327370b7/transformers-2.8.0-py3-none-any.whl (563kB)\n",
            "\r\u001b[K     |▋                               | 10kB 27.4MB/s eta 0:00:01\r\u001b[K     |█▏                              | 20kB 6.5MB/s eta 0:00:01\r\u001b[K     |█▊                              | 30kB 9.1MB/s eta 0:00:01\r\u001b[K     |██▎                             | 40kB 11.5MB/s eta 0:00:01\r\u001b[K     |███                             | 51kB 7.5MB/s eta 0:00:01\r\u001b[K     |███▌                            | 61kB 8.7MB/s eta 0:00:01\r\u001b[K     |████                            | 71kB 9.9MB/s eta 0:00:01\r\u001b[K     |████▋                           | 81kB 11.0MB/s eta 0:00:01\r\u001b[K     |█████▎                          | 92kB 8.9MB/s eta 0:00:01\r\u001b[K     |█████▉                          | 102kB 9.6MB/s eta 0:00:01\r\u001b[K     |██████▍                         | 112kB 9.6MB/s eta 0:00:01\r\u001b[K     |███████                         | 122kB 9.6MB/s eta 0:00:01\r\u001b[K     |███████▋                        | 133kB 9.6MB/s eta 0:00:01\r\u001b[K     |████████▏                       | 143kB 9.6MB/s eta 0:00:01\r\u001b[K     |████████▊                       | 153kB 9.6MB/s eta 0:00:01\r\u001b[K     |█████████▎                      | 163kB 9.6MB/s eta 0:00:01\r\u001b[K     |█████████▉                      | 174kB 9.6MB/s eta 0:00:01\r\u001b[K     |██████████▌                     | 184kB 9.6MB/s eta 0:00:01\r\u001b[K     |███████████                     | 194kB 9.6MB/s eta 0:00:01\r\u001b[K     |███████████▋                    | 204kB 9.6MB/s eta 0:00:01\r\u001b[K     |████████████▏                   | 215kB 9.6MB/s eta 0:00:01\r\u001b[K     |████████████▉                   | 225kB 9.6MB/s eta 0:00:01\r\u001b[K     |█████████████▍                  | 235kB 9.6MB/s eta 0:00:01\r\u001b[K     |██████████████                  | 245kB 9.6MB/s eta 0:00:01\r\u001b[K     |██████████████▌                 | 256kB 9.6MB/s eta 0:00:01\r\u001b[K     |███████████████▏                | 266kB 9.6MB/s eta 0:00:01\r\u001b[K     |███████████████▊                | 276kB 9.6MB/s eta 0:00:01\r\u001b[K     |████████████████▎               | 286kB 9.6MB/s eta 0:00:01\r\u001b[K     |████████████████▉               | 296kB 9.6MB/s eta 0:00:01\r\u001b[K     |█████████████████▍              | 307kB 9.6MB/s eta 0:00:01\r\u001b[K     |██████████████████              | 317kB 9.6MB/s eta 0:00:01\r\u001b[K     |██████████████████▋             | 327kB 9.6MB/s eta 0:00:01\r\u001b[K     |███████████████████▏            | 337kB 9.6MB/s eta 0:00:01\r\u001b[K     |███████████████████▊            | 348kB 9.6MB/s eta 0:00:01\r\u001b[K     |████████████████████▍           | 358kB 9.6MB/s eta 0:00:01\r\u001b[K     |█████████████████████           | 368kB 9.6MB/s eta 0:00:01\r\u001b[K     |█████████████████████▌          | 378kB 9.6MB/s eta 0:00:01\r\u001b[K     |██████████████████████          | 389kB 9.6MB/s eta 0:00:01\r\u001b[K     |██████████████████████▊         | 399kB 9.6MB/s eta 0:00:01\r\u001b[K     |███████████████████████▎        | 409kB 9.6MB/s eta 0:00:01\r\u001b[K     |███████████████████████▉        | 419kB 9.6MB/s eta 0:00:01\r\u001b[K     |████████████████████████▍       | 430kB 9.6MB/s eta 0:00:01\r\u001b[K     |█████████████████████████       | 440kB 9.6MB/s eta 0:00:01\r\u001b[K     |█████████████████████████▋      | 450kB 9.6MB/s eta 0:00:01\r\u001b[K     |██████████████████████████▏     | 460kB 9.6MB/s eta 0:00:01\r\u001b[K     |██████████████████████████▊     | 471kB 9.6MB/s eta 0:00:01\r\u001b[K     |███████████████████████████▎    | 481kB 9.6MB/s eta 0:00:01\r\u001b[K     |████████████████████████████    | 491kB 9.6MB/s eta 0:00:01\r\u001b[K     |████████████████████████████▌   | 501kB 9.6MB/s eta 0:00:01\r\u001b[K     |█████████████████████████████   | 512kB 9.6MB/s eta 0:00:01\r\u001b[K     |█████████████████████████████▋  | 522kB 9.6MB/s eta 0:00:01\r\u001b[K     |██████████████████████████████▎ | 532kB 9.6MB/s eta 0:00:01\r\u001b[K     |██████████████████████████████▉ | 542kB 9.6MB/s eta 0:00:01\r\u001b[K     |███████████████████████████████▍| 552kB 9.6MB/s eta 0:00:01\r\u001b[K     |████████████████████████████████| 563kB 9.6MB/s eta 0:00:01\r\u001b[K     |████████████████████████████████| 573kB 9.6MB/s \n",
            "\u001b[?25hRequirement already satisfied: regex!=2019.12.17 in /usr/local/lib/python3.6/dist-packages (from transformers) (2019.12.20)\n",
            "Requirement already satisfied: dataclasses; python_version < \"3.7\" in /usr/local/lib/python3.6/dist-packages (from transformers) (0.7)\n",
            "Requirement already satisfied: filelock in /usr/local/lib/python3.6/dist-packages (from transformers) (3.0.12)\n",
            "Requirement already satisfied: numpy in /usr/local/lib/python3.6/dist-packages (from transformers) (1.18.3)\n",
            "Requirement already satisfied: requests in /usr/local/lib/python3.6/dist-packages (from transformers) (2.21.0)\n",
            "Collecting sacremoses\n",
            "\u001b[?25l  Downloading https://files.pythonhosted.org/packages/99/50/93509f906a40bffd7d175f97fd75ea328ad9bd91f48f59c4bd084c94a25e/sacremoses-0.0.41.tar.gz (883kB)\n",
            "\r\u001b[K     |▍                               | 10kB 33.1MB/s eta 0:00:01\r\u001b[K     |▊                               | 20kB 42.4MB/s eta 0:00:01\r\u001b[K     |█▏                              | 30kB 50.4MB/s eta 0:00:01\r\u001b[K     |█▌                              | 40kB 53.5MB/s eta 0:00:01\r\u001b[K     |█▉                              | 51kB 55.0MB/s eta 0:00:01\r\u001b[K     |██▎                             | 61kB 57.5MB/s eta 0:00:01\r\u001b[K     |██▋                             | 71kB 58.2MB/s eta 0:00:01\r\u001b[K     |███                             | 81kB 59.7MB/s eta 0:00:01\r\u001b[K     |███▍                            | 92kB 61.3MB/s eta 0:00:01\r\u001b[K     |███▊                            | 102kB 62.7MB/s eta 0:00:01\r\u001b[K     |████                            | 112kB 62.7MB/s eta 0:00:01\r\u001b[K     |████▌                           | 122kB 62.7MB/s eta 0:00:01\r\u001b[K     |████▉                           | 133kB 62.7MB/s eta 0:00:01\r\u001b[K     |█████▏                          | 143kB 62.7MB/s eta 0:00:01\r\u001b[K     |█████▋                          | 153kB 62.7MB/s eta 0:00:01\r\u001b[K     |██████                          | 163kB 62.7MB/s eta 0:00:01\r\u001b[K     |██████▎                         | 174kB 62.7MB/s eta 0:00:01\r\u001b[K     |██████▊                         | 184kB 62.7MB/s eta 0:00:01\r\u001b[K     |███████                         | 194kB 62.7MB/s eta 0:00:01\r\u001b[K     |███████▍                        | 204kB 62.7MB/s eta 0:00:01\r\u001b[K     |███████▉                        | 215kB 62.7MB/s eta 0:00:01\r\u001b[K     |████████▏                       | 225kB 62.7MB/s eta 0:00:01\r\u001b[K     |████████▌                       | 235kB 62.7MB/s eta 0:00:01\r\u001b[K     |█████████                       | 245kB 62.7MB/s eta 0:00:01\r\u001b[K     |█████████▎                      | 256kB 62.7MB/s eta 0:00:01\r\u001b[K     |█████████▋                      | 266kB 62.7MB/s eta 0:00:01\r\u001b[K     |██████████                      | 276kB 62.7MB/s eta 0:00:01\r\u001b[K     |██████████▍                     | 286kB 62.7MB/s eta 0:00:01\r\u001b[K     |██████████▊                     | 296kB 62.7MB/s eta 0:00:01\r\u001b[K     |███████████▏                    | 307kB 62.7MB/s eta 0:00:01\r\u001b[K     |███████████▌                    | 317kB 62.7MB/s eta 0:00:01\r\u001b[K     |███████████▉                    | 327kB 62.7MB/s eta 0:00:01\r\u001b[K     |████████████▎                   | 337kB 62.7MB/s eta 0:00:01\r\u001b[K     |████████████▋                   | 348kB 62.7MB/s eta 0:00:01\r\u001b[K     |█████████████                   | 358kB 62.7MB/s eta 0:00:01\r\u001b[K     |█████████████▍                  | 368kB 62.7MB/s eta 0:00:01\r\u001b[K     |█████████████▊                  | 378kB 62.7MB/s eta 0:00:01\r\u001b[K     |██████████████                  | 389kB 62.7MB/s eta 0:00:01\r\u001b[K     |██████████████▌                 | 399kB 62.7MB/s eta 0:00:01\r\u001b[K     |██████████████▉                 | 409kB 62.7MB/s eta 0:00:01\r\u001b[K     |███████████████▏                | 419kB 62.7MB/s eta 0:00:01\r\u001b[K     |███████████████▋                | 430kB 62.7MB/s eta 0:00:01\r\u001b[K     |████████████████                | 440kB 62.7MB/s eta 0:00:01\r\u001b[K     |████████████████▎               | 450kB 62.7MB/s eta 0:00:01\r\u001b[K     |████████████████▊               | 460kB 62.7MB/s eta 0:00:01\r\u001b[K     |█████████████████               | 471kB 62.7MB/s eta 0:00:01\r\u001b[K     |█████████████████▍              | 481kB 62.7MB/s eta 0:00:01\r\u001b[K     |█████████████████▉              | 491kB 62.7MB/s eta 0:00:01\r\u001b[K     |██████████████████▏             | 501kB 62.7MB/s eta 0:00:01\r\u001b[K     |██████████████████▌             | 512kB 62.7MB/s eta 0:00:01\r\u001b[K     |███████████████████             | 522kB 62.7MB/s eta 0:00:01\r\u001b[K     |███████████████████▎            | 532kB 62.7MB/s eta 0:00:01\r\u001b[K     |███████████████████▋            | 542kB 62.7MB/s eta 0:00:01\r\u001b[K     |████████████████████            | 552kB 62.7MB/s eta 0:00:01\r\u001b[K     |████████████████████▍           | 563kB 62.7MB/s eta 0:00:01\r\u001b[K     |████████████████████▊           | 573kB 62.7MB/s eta 0:00:01\r\u001b[K     |█████████████████████▏          | 583kB 62.7MB/s eta 0:00:01\r\u001b[K     |█████████████████████▌          | 593kB 62.7MB/s eta 0:00:01\r\u001b[K     |█████████████████████▉          | 604kB 62.7MB/s eta 0:00:01\r\u001b[K     |██████████████████████▎         | 614kB 62.7MB/s eta 0:00:01\r\u001b[K     |██████████████████████▋         | 624kB 62.7MB/s eta 0:00:01\r\u001b[K     |███████████████████████         | 634kB 62.7MB/s eta 0:00:01\r\u001b[K     |███████████████████████▍        | 645kB 62.7MB/s eta 0:00:01\r\u001b[K     |███████████████████████▊        | 655kB 62.7MB/s eta 0:00:01\r\u001b[K     |████████████████████████        | 665kB 62.7MB/s eta 0:00:01\r\u001b[K     |████████████████████████▌       | 675kB 62.7MB/s eta 0:00:01\r\u001b[K     |████████████████████████▉       | 686kB 62.7MB/s eta 0:00:01\r\u001b[K     |█████████████████████████▏      | 696kB 62.7MB/s eta 0:00:01\r\u001b[K     |█████████████████████████▋      | 706kB 62.7MB/s eta 0:00:01\r\u001b[K     |██████████████████████████      | 716kB 62.7MB/s eta 0:00:01\r\u001b[K     |██████████████████████████▎     | 727kB 62.7MB/s eta 0:00:01\r\u001b[K     |██████████████████████████▊     | 737kB 62.7MB/s eta 0:00:01\r\u001b[K     |███████████████████████████     | 747kB 62.7MB/s eta 0:00:01\r\u001b[K     |███████████████████████████▌    | 757kB 62.7MB/s eta 0:00:01\r\u001b[K     |███████████████████████████▉    | 768kB 62.7MB/s eta 0:00:01\r\u001b[K     |████████████████████████████▏   | 778kB 62.7MB/s eta 0:00:01\r\u001b[K     |████████████████████████████▋   | 788kB 62.7MB/s eta 0:00:01\r\u001b[K     |█████████████████████████████   | 798kB 62.7MB/s eta 0:00:01\r\u001b[K     |█████████████████████████████▎  | 808kB 62.7MB/s eta 0:00:01\r\u001b[K     |█████████████████████████████▊  | 819kB 62.7MB/s eta 0:00:01\r\u001b[K     |██████████████████████████████  | 829kB 62.7MB/s eta 0:00:01\r\u001b[K     |██████████████████████████████▍ | 839kB 62.7MB/s eta 0:00:01\r\u001b[K     |██████████████████████████████▉ | 849kB 62.7MB/s eta 0:00:01\r\u001b[K     |███████████████████████████████▏| 860kB 62.7MB/s eta 0:00:01\r\u001b[K     |███████████████████████████████▌| 870kB 62.7MB/s eta 0:00:01\r\u001b[K     |████████████████████████████████| 880kB 62.7MB/s eta 0:00:01\r\u001b[K     |████████████████████████████████| 890kB 62.7MB/s \n",
            "\u001b[?25hRequirement already satisfied: tqdm>=4.27 in /usr/local/lib/python3.6/dist-packages (from transformers) (4.38.0)\n",
            "Collecting sentencepiece\n",
            "\u001b[?25l  Downloading https://files.pythonhosted.org/packages/98/2c/8df20f3ac6c22ac224fff307ebc102818206c53fc454ecd37d8ac2060df5/sentencepiece-0.1.86-cp36-cp36m-manylinux1_x86_64.whl (1.0MB)\n",
            "\u001b[K     |████████████████████████████████| 1.0MB 72kB/s \n",
            "\u001b[?25hCollecting tokenizers==0.5.2\n",
            "\u001b[?25l  Downloading https://files.pythonhosted.org/packages/d1/3f/73c881ea4723e43c1e9acf317cf407fab3a278daab3a69c98dcac511c04f/tokenizers-0.5.2-cp36-cp36m-manylinux1_x86_64.whl (3.7MB)\n",
            "\u001b[K     |████████████████████████████████| 3.7MB 51.4MB/s \n",
            "\u001b[?25hRequirement already satisfied: boto3 in /usr/local/lib/python3.6/dist-packages (from transformers) (1.12.43)\n",
            "Requirement already satisfied: idna<2.9,>=2.5 in /usr/local/lib/python3.6/dist-packages (from requests->transformers) (2.8)\n",
            "Requirement already satisfied: urllib3<1.25,>=1.21.1 in /usr/local/lib/python3.6/dist-packages (from requests->transformers) (1.24.3)\n",
            "Requirement already satisfied: certifi>=2017.4.17 in /usr/local/lib/python3.6/dist-packages (from requests->transformers) (2020.4.5.1)\n",
            "Requirement already satisfied: chardet<3.1.0,>=3.0.2 in /usr/local/lib/python3.6/dist-packages (from requests->transformers) (3.0.4)\n",
            "Requirement already satisfied: six in /usr/local/lib/python3.6/dist-packages (from sacremoses->transformers) (1.12.0)\n",
            "Requirement already satisfied: click in /usr/local/lib/python3.6/dist-packages (from sacremoses->transformers) (7.1.1)\n",
            "Requirement already satisfied: joblib in /usr/local/lib/python3.6/dist-packages (from sacremoses->transformers) (0.14.1)\n",
            "Requirement already satisfied: jmespath<1.0.0,>=0.7.1 in /usr/local/lib/python3.6/dist-packages (from boto3->transformers) (0.9.5)\n",
            "Requirement already satisfied: s3transfer<0.4.0,>=0.3.0 in /usr/local/lib/python3.6/dist-packages (from boto3->transformers) (0.3.3)\n",
            "Requirement already satisfied: botocore<1.16.0,>=1.15.43 in /usr/local/lib/python3.6/dist-packages (from boto3->transformers) (1.15.43)\n",
            "Requirement already satisfied: docutils<0.16,>=0.10 in /usr/local/lib/python3.6/dist-packages (from botocore<1.16.0,>=1.15.43->boto3->transformers) (0.15.2)\n",
            "Requirement already satisfied: python-dateutil<3.0.0,>=2.1 in /usr/local/lib/python3.6/dist-packages (from botocore<1.16.0,>=1.15.43->boto3->transformers) (2.8.1)\n",
            "Building wheels for collected packages: sacremoses\n",
            "  Building wheel for sacremoses (setup.py) ... \u001b[?25l\u001b[?25hdone\n",
            "  Created wheel for sacremoses: filename=sacremoses-0.0.41-cp36-none-any.whl size=893334 sha256=7875d859e90b8e17383efa7b88a095ec847382d12e7e8d29f4dabb55fd23d926\n",
            "  Stored in directory: /root/.cache/pip/wheels/22/5a/d4/b020a81249de7dc63758a34222feaa668dbe8ebfe9170cc9b1\n",
            "Successfully built sacremoses\n",
            "Installing collected packages: sacremoses, sentencepiece, tokenizers, transformers\n",
            "Successfully installed sacremoses-0.0.41 sentencepiece-0.1.86 tokenizers-0.5.2 transformers-2.8.0\n"
          ],
          "name": "stdout"
        }
      ]
    },
    {
      "cell_type": "code",
      "metadata": {
        "id": "__QKgjGzH6pr",
        "colab_type": "code",
        "colab": {}
      },
      "source": [
        "import opennre"
      ],
      "execution_count": 0,
      "outputs": []
    },
    {
      "cell_type": "code",
      "metadata": {
        "id": "1LwDw-iPsPP-",
        "colab_type": "code",
        "colab": {}
      },
      "source": [
        "root_path = '.'\n",
        "opennre.download('nyt10', root_path=root_path)"
      ],
      "execution_count": 0,
      "outputs": []
    },
    {
      "cell_type": "code",
      "metadata": {
        "id": "nkQOeHwIIEnD",
        "colab_type": "code",
        "colab": {}
      },
      "source": [
        "model = opennre.get_model('wiki80_cnn_softmax')"
      ],
      "execution_count": 0,
      "outputs": []
    },
    {
      "cell_type": "code",
      "metadata": {
        "id": "QrX3wymRIIbX",
        "colab_type": "code",
        "outputId": "c8f43d27-e0a5-4655-9f08-c6992092c755",
        "colab": {
          "base_uri": "https://localhost:8080/",
          "height": 34
        }
      },
      "source": [
        "model.infer({'text': 'He was the son of Máel Dúin mac Máele Fithrich, and grandson of the high king Áed Uaridnach (died 612).', 'h': {'pos': (18, 46)}, 't': {'pos': (78, 91)}})"
      ],
      "execution_count": 0,
      "outputs": [
        {
          "output_type": "execute_result",
          "data": {
            "text/plain": [
              "('father', 0.7500484585762024)"
            ]
          },
          "metadata": {
            "tags": []
          },
          "execution_count": 7
        }
      ]
    },
    {
      "cell_type": "code",
      "metadata": {
        "id": "IHr_i0crcy9u",
        "colab_type": "code",
        "outputId": "d2499634-6da0-4a47-d0f0-42b98be420af",
        "colab": {
          "base_uri": "https://localhost:8080/",
          "height": 34
        }
      },
      "source": [
        "pwd"
      ],
      "execution_count": 0,
      "outputs": [
        {
          "output_type": "execute_result",
          "data": {
            "text/plain": [
              "'/content/OpenNRE'"
            ]
          },
          "metadata": {
            "tags": []
          },
          "execution_count": 8
        }
      ]
    },
    {
      "cell_type": "code",
      "metadata": {
        "id": "fHY1KjCuIppE",
        "colab_type": "code",
        "outputId": "21c654c6-954e-4fcf-ec29-547b30f8d747",
        "colab": {
          "base_uri": "https://localhost:8080/",
          "height": 529
        }
      },
      "source": [
        "import sys, json\n",
        "import torch\n",
        "import os\n",
        "import numpy as np\n",
        "import opennre\n",
        "from opennre import encoder, model, framework\n",
        "import argparse\n",
        "\n",
        "# parser = argparse.ArgumentParser()\n",
        "# parser.add_argument('--bag_size', type=int, default=0)\n",
        "# args = parser.parse_args()\n",
        "\n",
        "\n",
        "# Some basic settings\n",
        "root_path = '.'\n",
        "if not os.path.exists('ckpt'):\n",
        "    os.mkdir('ckpt')\n",
        "ckpt = 'ckpt/nyt10_pcnn_att.pth.tar'\n",
        "\n",
        "# Check data\n",
        "# opennre.download('nyt10', root_path=root_path)\n",
        "opennre.download('glove', root_path=root_path)\n",
        "rel2id = json.load(open(os.path.join(root_path, 'benchmark/nyt10/nyt10_rel2id.json')))\n",
        "wordi2d = json.load(open(os.path.join(root_path, 'pretrain/glove/glove.6B.50d_word2id.json')))\n",
        "word2vec = np.load(os.path.join(root_path, 'pretrain/glove/glove.6B.50d_mat.npy'))\n",
        "\n",
        "# Define the sentence encoder\n",
        "sentence_encoder = opennre.encoder.PCNNEncoder(\n",
        "    token2id=wordi2d,\n",
        "    max_length=120,\n",
        "    word_size=50,\n",
        "    position_size=5,\n",
        "    hidden_size=230,\n",
        "    blank_padding=True,\n",
        "    kernel_size=3,\n",
        "    padding_size=1,\n",
        "    word2vec=word2vec,\n",
        "    dropout=0.5\n",
        ")\n",
        "\n",
        "# Define the model\n",
        "model = opennre.model.BagAttention(sentence_encoder, len(rel2id), rel2id)\n",
        "\n",
        "# Define the whole training framework\n",
        "framework = opennre.framework.BagRE(\n",
        "    train_path='benchmark/nyt10/nyt10_train.txt',\n",
        "    val_path='benchmark/nyt10/nyt10_val.txt',\n",
        "    test_path='benchmark/nyt10/nyt10_test.txt',\n",
        "    model=model,\n",
        "    ckpt=ckpt,\n",
        "    batch_size=160,\n",
        "    max_epoch=60,\n",
        "    lr=0.5,\n",
        "    weight_decay=0,\n",
        "    opt='sgd',\n",
        "    bag_size =3）\n",
        "    # bag_size=args.bag_size)\n",
        "\n",
        "# Train the model\n",
        "framework.train_model()\n",
        "\n",
        "# Test the model\n",
        "framework.load_state_dict(torch.load(ckpt)['state_dict'])\n",
        "result = framework.eval_model(framework.test_loader)\n",
        "\n",
        "# Print the result\n",
        "print('AUC on test set: {}'.format(result['auc']))\n",
        "\n"
      ],
      "execution_count": 0,
      "outputs": [
        {
          "output_type": "stream",
          "text": [
            "\r  0%|          | 0/1582 [00:00<?, ?it/s]"
          ],
          "name": "stderr"
        },
        {
          "output_type": "stream",
          "text": [
            "=== Epoch 0 train ===\n"
          ],
          "name": "stdout"
        },
        {
          "output_type": "stream",
          "text": [
            "100%|██████████| 1582/1582 [07:11<00:00,  3.67it/s, acc=0.936, loss=0.307, pos_acc=0.0829]\n",
            "  0%|          | 0/176 [00:00<?, ?it/s]"
          ],
          "name": "stderr"
        },
        {
          "output_type": "stream",
          "text": [
            "=== Epoch 0 val ===\n"
          ],
          "name": "stdout"
        },
        {
          "output_type": "stream",
          "text": [
            "100%|██████████| 176/176 [01:28<00:00,  1.99it/s]\n",
            "  0%|          | 0/1582 [00:00<?, ?it/s]"
          ],
          "name": "stderr"
        },
        {
          "output_type": "stream",
          "text": [
            "auc: 0.3240\n",
            "f1: 0.3675\n",
            "Best ckpt and saved.\n",
            "=== Epoch 1 train ===\n"
          ],
          "name": "stdout"
        },
        {
          "output_type": "stream",
          "text": [
            " 17%|█▋        | 263/1582 [01:15<04:28,  4.91it/s, acc=0.941, loss=0.237, pos_acc=0.182]"
          ],
          "name": "stderr"
        },
        {
          "output_type": "error",
          "ename": "KeyboardInterrupt",
          "evalue": "ignored",
          "traceback": [
            "\u001b[0;31m---------------------------------------------------------------------------\u001b[0m",
            "\u001b[0;31mKeyboardInterrupt\u001b[0m                         Traceback (most recent call last)",
            "\u001b[0;32m<ipython-input-16-f163d0c2eb86>\u001b[0m in \u001b[0;36m<module>\u001b[0;34m()\u001b[0m\n\u001b[1;32m     58\u001b[0m \u001b[0;34m\u001b[0m\u001b[0m\n\u001b[1;32m     59\u001b[0m \u001b[0;31m# Train the model\u001b[0m\u001b[0;34m\u001b[0m\u001b[0;34m\u001b[0m\u001b[0;34m\u001b[0m\u001b[0m\n\u001b[0;32m---> 60\u001b[0;31m \u001b[0mframework\u001b[0m\u001b[0;34m.\u001b[0m\u001b[0mtrain_model\u001b[0m\u001b[0;34m(\u001b[0m\u001b[0;34m)\u001b[0m\u001b[0;34m\u001b[0m\u001b[0;34m\u001b[0m\u001b[0m\n\u001b[0m\u001b[1;32m     61\u001b[0m \u001b[0;34m\u001b[0m\u001b[0m\n\u001b[1;32m     62\u001b[0m \u001b[0;31m# Test the model\u001b[0m\u001b[0;34m\u001b[0m\u001b[0;34m\u001b[0m\u001b[0;34m\u001b[0m\u001b[0m\n",
            "\u001b[0;32m/content/OpenNRE/opennre/framework/bag_re.py\u001b[0m in \u001b[0;36mtrain_model\u001b[0;34m(self)\u001b[0m\n\u001b[1;32m    108\u001b[0m             \u001b[0mavg_pos_acc\u001b[0m \u001b[0;34m=\u001b[0m \u001b[0mAverageMeter\u001b[0m\u001b[0;34m(\u001b[0m\u001b[0;34m)\u001b[0m\u001b[0;34m\u001b[0m\u001b[0;34m\u001b[0m\u001b[0m\n\u001b[1;32m    109\u001b[0m             \u001b[0mt\u001b[0m \u001b[0;34m=\u001b[0m \u001b[0mtqdm\u001b[0m\u001b[0;34m(\u001b[0m\u001b[0mself\u001b[0m\u001b[0;34m.\u001b[0m\u001b[0mtrain_loader\u001b[0m\u001b[0;34m)\u001b[0m\u001b[0;34m\u001b[0m\u001b[0;34m\u001b[0m\u001b[0m\n\u001b[0;32m--> 110\u001b[0;31m             \u001b[0;32mfor\u001b[0m \u001b[0miter\u001b[0m\u001b[0;34m,\u001b[0m \u001b[0mdata\u001b[0m \u001b[0;32min\u001b[0m \u001b[0menumerate\u001b[0m\u001b[0;34m(\u001b[0m\u001b[0mt\u001b[0m\u001b[0;34m)\u001b[0m\u001b[0;34m:\u001b[0m\u001b[0;34m\u001b[0m\u001b[0;34m\u001b[0m\u001b[0m\n\u001b[0m\u001b[1;32m    111\u001b[0m                 \u001b[0;32mif\u001b[0m \u001b[0mtorch\u001b[0m\u001b[0;34m.\u001b[0m\u001b[0mcuda\u001b[0m\u001b[0;34m.\u001b[0m\u001b[0mis_available\u001b[0m\u001b[0;34m(\u001b[0m\u001b[0;34m)\u001b[0m\u001b[0;34m:\u001b[0m\u001b[0;34m\u001b[0m\u001b[0;34m\u001b[0m\u001b[0m\n\u001b[1;32m    112\u001b[0m                     \u001b[0;32mfor\u001b[0m \u001b[0mi\u001b[0m \u001b[0;32min\u001b[0m \u001b[0mrange\u001b[0m\u001b[0;34m(\u001b[0m\u001b[0mlen\u001b[0m\u001b[0;34m(\u001b[0m\u001b[0mdata\u001b[0m\u001b[0;34m)\u001b[0m\u001b[0;34m)\u001b[0m\u001b[0;34m:\u001b[0m\u001b[0;34m\u001b[0m\u001b[0;34m\u001b[0m\u001b[0m\n",
            "\u001b[0;32m/usr/local/lib/python3.6/dist-packages/tqdm/std.py\u001b[0m in \u001b[0;36m__iter__\u001b[0;34m(self)\u001b[0m\n\u001b[1;32m   1089\u001b[0m             \"\"\"), fp_write=getattr(self.fp, 'write', sys.stderr.write))\n\u001b[1;32m   1090\u001b[0m \u001b[0;34m\u001b[0m\u001b[0m\n\u001b[0;32m-> 1091\u001b[0;31m         \u001b[0;32mfor\u001b[0m \u001b[0mobj\u001b[0m \u001b[0;32min\u001b[0m \u001b[0miterable\u001b[0m\u001b[0;34m:\u001b[0m\u001b[0;34m\u001b[0m\u001b[0;34m\u001b[0m\u001b[0m\n\u001b[0m\u001b[1;32m   1092\u001b[0m             \u001b[0;32myield\u001b[0m \u001b[0mobj\u001b[0m\u001b[0;34m\u001b[0m\u001b[0;34m\u001b[0m\u001b[0m\n\u001b[1;32m   1093\u001b[0m             \u001b[0;31m# Update and possibly print the progressbar.\u001b[0m\u001b[0;34m\u001b[0m\u001b[0;34m\u001b[0m\u001b[0;34m\u001b[0m\u001b[0m\n",
            "\u001b[0;32m/usr/local/lib/python3.6/dist-packages/torch/utils/data/dataloader.py\u001b[0m in \u001b[0;36m__next__\u001b[0;34m(self)\u001b[0m\n\u001b[1;32m    343\u001b[0m \u001b[0;34m\u001b[0m\u001b[0m\n\u001b[1;32m    344\u001b[0m     \u001b[0;32mdef\u001b[0m \u001b[0m__next__\u001b[0m\u001b[0;34m(\u001b[0m\u001b[0mself\u001b[0m\u001b[0;34m)\u001b[0m\u001b[0;34m:\u001b[0m\u001b[0;34m\u001b[0m\u001b[0;34m\u001b[0m\u001b[0m\n\u001b[0;32m--> 345\u001b[0;31m         \u001b[0mdata\u001b[0m \u001b[0;34m=\u001b[0m \u001b[0mself\u001b[0m\u001b[0;34m.\u001b[0m\u001b[0m_next_data\u001b[0m\u001b[0;34m(\u001b[0m\u001b[0;34m)\u001b[0m\u001b[0;34m\u001b[0m\u001b[0;34m\u001b[0m\u001b[0m\n\u001b[0m\u001b[1;32m    346\u001b[0m         \u001b[0mself\u001b[0m\u001b[0;34m.\u001b[0m\u001b[0m_num_yielded\u001b[0m \u001b[0;34m+=\u001b[0m \u001b[0;36m1\u001b[0m\u001b[0;34m\u001b[0m\u001b[0;34m\u001b[0m\u001b[0m\n\u001b[1;32m    347\u001b[0m         \u001b[0;32mif\u001b[0m \u001b[0mself\u001b[0m\u001b[0;34m.\u001b[0m\u001b[0m_dataset_kind\u001b[0m \u001b[0;34m==\u001b[0m \u001b[0m_DatasetKind\u001b[0m\u001b[0;34m.\u001b[0m\u001b[0mIterable\u001b[0m \u001b[0;32mand\u001b[0m\u001b[0;31m \u001b[0m\u001b[0;31m\\\u001b[0m\u001b[0;34m\u001b[0m\u001b[0;34m\u001b[0m\u001b[0m\n",
            "\u001b[0;32m/usr/local/lib/python3.6/dist-packages/torch/utils/data/dataloader.py\u001b[0m in \u001b[0;36m_next_data\u001b[0;34m(self)\u001b[0m\n\u001b[1;32m    839\u001b[0m \u001b[0;34m\u001b[0m\u001b[0m\n\u001b[1;32m    840\u001b[0m             \u001b[0;32massert\u001b[0m \u001b[0;32mnot\u001b[0m \u001b[0mself\u001b[0m\u001b[0;34m.\u001b[0m\u001b[0m_shutdown\u001b[0m \u001b[0;32mand\u001b[0m \u001b[0mself\u001b[0m\u001b[0;34m.\u001b[0m\u001b[0m_tasks_outstanding\u001b[0m \u001b[0;34m>\u001b[0m \u001b[0;36m0\u001b[0m\u001b[0;34m\u001b[0m\u001b[0;34m\u001b[0m\u001b[0m\n\u001b[0;32m--> 841\u001b[0;31m             \u001b[0midx\u001b[0m\u001b[0;34m,\u001b[0m \u001b[0mdata\u001b[0m \u001b[0;34m=\u001b[0m \u001b[0mself\u001b[0m\u001b[0;34m.\u001b[0m\u001b[0m_get_data\u001b[0m\u001b[0;34m(\u001b[0m\u001b[0;34m)\u001b[0m\u001b[0;34m\u001b[0m\u001b[0;34m\u001b[0m\u001b[0m\n\u001b[0m\u001b[1;32m    842\u001b[0m             \u001b[0mself\u001b[0m\u001b[0;34m.\u001b[0m\u001b[0m_tasks_outstanding\u001b[0m \u001b[0;34m-=\u001b[0m \u001b[0;36m1\u001b[0m\u001b[0;34m\u001b[0m\u001b[0;34m\u001b[0m\u001b[0m\n\u001b[1;32m    843\u001b[0m \u001b[0;34m\u001b[0m\u001b[0m\n",
            "\u001b[0;32m/usr/local/lib/python3.6/dist-packages/torch/utils/data/dataloader.py\u001b[0m in \u001b[0;36m_get_data\u001b[0;34m(self)\u001b[0m\n\u001b[1;32m    796\u001b[0m         \u001b[0;32melif\u001b[0m \u001b[0mself\u001b[0m\u001b[0;34m.\u001b[0m\u001b[0m_pin_memory\u001b[0m\u001b[0;34m:\u001b[0m\u001b[0;34m\u001b[0m\u001b[0;34m\u001b[0m\u001b[0m\n\u001b[1;32m    797\u001b[0m             \u001b[0;32mwhile\u001b[0m \u001b[0mself\u001b[0m\u001b[0;34m.\u001b[0m\u001b[0m_pin_memory_thread\u001b[0m\u001b[0;34m.\u001b[0m\u001b[0mis_alive\u001b[0m\u001b[0;34m(\u001b[0m\u001b[0;34m)\u001b[0m\u001b[0;34m:\u001b[0m\u001b[0;34m\u001b[0m\u001b[0;34m\u001b[0m\u001b[0m\n\u001b[0;32m--> 798\u001b[0;31m                 \u001b[0msuccess\u001b[0m\u001b[0;34m,\u001b[0m \u001b[0mdata\u001b[0m \u001b[0;34m=\u001b[0m \u001b[0mself\u001b[0m\u001b[0;34m.\u001b[0m\u001b[0m_try_get_data\u001b[0m\u001b[0;34m(\u001b[0m\u001b[0;34m)\u001b[0m\u001b[0;34m\u001b[0m\u001b[0;34m\u001b[0m\u001b[0m\n\u001b[0m\u001b[1;32m    799\u001b[0m                 \u001b[0;32mif\u001b[0m \u001b[0msuccess\u001b[0m\u001b[0;34m:\u001b[0m\u001b[0;34m\u001b[0m\u001b[0;34m\u001b[0m\u001b[0m\n\u001b[1;32m    800\u001b[0m                     \u001b[0;32mreturn\u001b[0m \u001b[0mdata\u001b[0m\u001b[0;34m\u001b[0m\u001b[0;34m\u001b[0m\u001b[0m\n",
            "\u001b[0;32m/usr/local/lib/python3.6/dist-packages/torch/utils/data/dataloader.py\u001b[0m in \u001b[0;36m_try_get_data\u001b[0;34m(self, timeout)\u001b[0m\n\u001b[1;32m    759\u001b[0m         \u001b[0;31m#   (bool: whether successfully get data, any: data if successful else None)\u001b[0m\u001b[0;34m\u001b[0m\u001b[0;34m\u001b[0m\u001b[0;34m\u001b[0m\u001b[0m\n\u001b[1;32m    760\u001b[0m         \u001b[0;32mtry\u001b[0m\u001b[0;34m:\u001b[0m\u001b[0;34m\u001b[0m\u001b[0;34m\u001b[0m\u001b[0m\n\u001b[0;32m--> 761\u001b[0;31m             \u001b[0mdata\u001b[0m \u001b[0;34m=\u001b[0m \u001b[0mself\u001b[0m\u001b[0;34m.\u001b[0m\u001b[0m_data_queue\u001b[0m\u001b[0;34m.\u001b[0m\u001b[0mget\u001b[0m\u001b[0;34m(\u001b[0m\u001b[0mtimeout\u001b[0m\u001b[0;34m=\u001b[0m\u001b[0mtimeout\u001b[0m\u001b[0;34m)\u001b[0m\u001b[0;34m\u001b[0m\u001b[0;34m\u001b[0m\u001b[0m\n\u001b[0m\u001b[1;32m    762\u001b[0m             \u001b[0;32mreturn\u001b[0m \u001b[0;34m(\u001b[0m\u001b[0;32mTrue\u001b[0m\u001b[0;34m,\u001b[0m \u001b[0mdata\u001b[0m\u001b[0;34m)\u001b[0m\u001b[0;34m\u001b[0m\u001b[0;34m\u001b[0m\u001b[0m\n\u001b[1;32m    763\u001b[0m         \u001b[0;32mexcept\u001b[0m \u001b[0mException\u001b[0m \u001b[0;32mas\u001b[0m \u001b[0me\u001b[0m\u001b[0;34m:\u001b[0m\u001b[0;34m\u001b[0m\u001b[0;34m\u001b[0m\u001b[0m\n",
            "\u001b[0;32m/usr/lib/python3.6/queue.py\u001b[0m in \u001b[0;36mget\u001b[0;34m(self, block, timeout)\u001b[0m\n\u001b[1;32m    171\u001b[0m                     \u001b[0;32mif\u001b[0m \u001b[0mremaining\u001b[0m \u001b[0;34m<=\u001b[0m \u001b[0;36m0.0\u001b[0m\u001b[0;34m:\u001b[0m\u001b[0;34m\u001b[0m\u001b[0;34m\u001b[0m\u001b[0m\n\u001b[1;32m    172\u001b[0m                         \u001b[0;32mraise\u001b[0m \u001b[0mEmpty\u001b[0m\u001b[0;34m\u001b[0m\u001b[0;34m\u001b[0m\u001b[0m\n\u001b[0;32m--> 173\u001b[0;31m                     \u001b[0mself\u001b[0m\u001b[0;34m.\u001b[0m\u001b[0mnot_empty\u001b[0m\u001b[0;34m.\u001b[0m\u001b[0mwait\u001b[0m\u001b[0;34m(\u001b[0m\u001b[0mremaining\u001b[0m\u001b[0;34m)\u001b[0m\u001b[0;34m\u001b[0m\u001b[0;34m\u001b[0m\u001b[0m\n\u001b[0m\u001b[1;32m    174\u001b[0m             \u001b[0mitem\u001b[0m \u001b[0;34m=\u001b[0m \u001b[0mself\u001b[0m\u001b[0;34m.\u001b[0m\u001b[0m_get\u001b[0m\u001b[0;34m(\u001b[0m\u001b[0;34m)\u001b[0m\u001b[0;34m\u001b[0m\u001b[0;34m\u001b[0m\u001b[0m\n\u001b[1;32m    175\u001b[0m             \u001b[0mself\u001b[0m\u001b[0;34m.\u001b[0m\u001b[0mnot_full\u001b[0m\u001b[0;34m.\u001b[0m\u001b[0mnotify\u001b[0m\u001b[0;34m(\u001b[0m\u001b[0;34m)\u001b[0m\u001b[0;34m\u001b[0m\u001b[0;34m\u001b[0m\u001b[0m\n",
            "\u001b[0;32m/usr/lib/python3.6/threading.py\u001b[0m in \u001b[0;36mwait\u001b[0;34m(self, timeout)\u001b[0m\n\u001b[1;32m    297\u001b[0m             \u001b[0;32melse\u001b[0m\u001b[0;34m:\u001b[0m\u001b[0;34m\u001b[0m\u001b[0;34m\u001b[0m\u001b[0m\n\u001b[1;32m    298\u001b[0m                 \u001b[0;32mif\u001b[0m \u001b[0mtimeout\u001b[0m \u001b[0;34m>\u001b[0m \u001b[0;36m0\u001b[0m\u001b[0;34m:\u001b[0m\u001b[0;34m\u001b[0m\u001b[0;34m\u001b[0m\u001b[0m\n\u001b[0;32m--> 299\u001b[0;31m                     \u001b[0mgotit\u001b[0m \u001b[0;34m=\u001b[0m \u001b[0mwaiter\u001b[0m\u001b[0;34m.\u001b[0m\u001b[0macquire\u001b[0m\u001b[0;34m(\u001b[0m\u001b[0;32mTrue\u001b[0m\u001b[0;34m,\u001b[0m \u001b[0mtimeout\u001b[0m\u001b[0;34m)\u001b[0m\u001b[0;34m\u001b[0m\u001b[0;34m\u001b[0m\u001b[0m\n\u001b[0m\u001b[1;32m    300\u001b[0m                 \u001b[0;32melse\u001b[0m\u001b[0;34m:\u001b[0m\u001b[0;34m\u001b[0m\u001b[0;34m\u001b[0m\u001b[0m\n\u001b[1;32m    301\u001b[0m                     \u001b[0mgotit\u001b[0m \u001b[0;34m=\u001b[0m \u001b[0mwaiter\u001b[0m\u001b[0;34m.\u001b[0m\u001b[0macquire\u001b[0m\u001b[0;34m(\u001b[0m\u001b[0;32mFalse\u001b[0m\u001b[0;34m)\u001b[0m\u001b[0;34m\u001b[0m\u001b[0;34m\u001b[0m\u001b[0m\n",
            "\u001b[0;31mKeyboardInterrupt\u001b[0m: "
          ]
        }
      ]
    },
    {
      "cell_type": "code",
      "metadata": {
        "id": "YVbwME8rg9GY",
        "colab_type": "code",
        "outputId": "5df533f4-8869-4396-bd95-f5f550560d68",
        "colab": {
          "base_uri": "https://localhost:8080/",
          "height": 34
        }
      },
      "source": [
        "rel2id = json.load(open(os.path.join(root_path, 'benchmark/nyt10/nyt10_rel2id.json')))\n",
        "type(rel2id)"
      ],
      "execution_count": 0,
      "outputs": [
        {
          "output_type": "execute_result",
          "data": {
            "text/plain": [
              "dict"
            ]
          },
          "metadata": {
            "tags": []
          },
          "execution_count": 18
        }
      ]
    },
    {
      "cell_type": "code",
      "metadata": {
        "id": "F0lG_5zjs5Ct",
        "colab_type": "code",
        "outputId": "7d5ec5d1-e5fe-4f0a-830f-565444ef0261",
        "colab": {
          "base_uri": "https://localhost:8080/",
          "height": 55
        }
      },
      "source": [
        "import json\n",
        "# train_path='benchmark/nyt10/nyt10_train.txt'\n",
        "train_path='nytwiki_train.txt'\n",
        "val_path='nytwiki_valid.txt'\n",
        "test_path='benchmark/nyt10/nyt10_test.txt'\n",
        "\n",
        "relation_dict = {}\n",
        "with open(train_path, 'r') as f:\n",
        "  for i in f.readlines():\n",
        "    i = json.loads(i)\n",
        "    if i['relation'] not in relation_dict.keys():\n",
        "      relation_dict[str(i['relation'])] = 1\n",
        "    else:\n",
        "      relation_dict[str(i['relation'])] += 1\n",
        "print(relation_dict)"
      ],
      "execution_count": 28,
      "outputs": [
        {
          "output_type": "stream",
          "text": [
            "{'instance_of': 36036, 'NA': 485892, 'record_label': 181, 'located_in_the_administrative_territorial_entity': 9792, 'shares_border_with': 5936, 'occupation': 12608, 'part_of': 1613, 'country': 13485, 'subclass_of': 6744, 'original_language_of_work': 9063, 'spouse': 1297, 'capital': 1251, 'country_of_origin': 3759, 'field_of_work': 196, 'sport': 3385, 'member_of_sports_team': 5328, 'office_held_by_head_of_government': 290, 'has_part': 1405, 'country_of_citizenship': 3850, 'instrument': 1512, 'educated_at': 418, 'child': 375, 'position_played_on_team_/_speciality': 1091, 'sister_city': 3068, 'series': 179, 'developer': 139, 'native_language': 722, 'headquarters_location': 2121, 'genre': 4112, 'employer': 415, 'sister': 93, 'place_of_death': 2072, 'cast_member': 1717, 'place_of_birth': 3286, 'continent': 971, 'position_held': 224, 'languages_spoken_or_written': 4280, 'contains_administrative_territorial_entities': 1806, 'work_location': 411, 'performer': 1051, 'capital_of': 1162, 'publisher': 92, 'given_name': 151, 'named_after': 669, 'place_of_burial': 73, 'material_used': 373, 'taxon_rank': 531, 'language_of_work_or_name': 475, 'manner_of_death': 126, 'official_language': 1374, 'followed_by': 1577, 'author': 242, 'follows': 1628, 'founder': 333, 'creator': 173, 'member_of': 838, 'residence': 339, 'student_of': 73, 'political_ideology': 33, 'drafted_by': 753, 'father': 227, 'director': 426, 'notable_work': 110, 'main_subject': 586, 'league': 157, 'owned_by': 294, 'depicts': 292, 'parent_taxon': 68, 'cause_of_death': 102, 'composer': 116, 'religion': 149, 'brother': 308, 'production_company': 113, 'producer': 298, 'distribution': 40, 'mother': 137, 'significant_event': 75, 'member_of_political_party': 80, 'lyrics_by': 146, 'industry': 227, 'location': 108, 'occupant': 97, 'distributor': 52, 'award_received': 55, 'manufacturer': 157, 'student': 40, 'sports_discipline_competed_in': 68, 'discoverer_or_inventor': 15, 'based_on': 45, 'film_editor': 23, 'military_branch': 18, 'winner': 2, 'participant': 7}\n"
          ],
          "name": "stdout"
        }
      ]
    },
    {
      "cell_type": "code",
      "metadata": {
        "id": "YiMqpwu-OOBb",
        "colab_type": "code",
        "colab": {}
      },
      "source": [
        "count = 0\n",
        "count2 = 0\n",
        "with open('nytwiki_train.txt', 'r') as f:\n",
        "  for i in f.readlines():\n",
        "    i = json.loads(i)\n",
        "    if i['relation'] == 'NA':\n",
        "      count+=1\n",
        "    else:\n",
        "      count2+=1\n",
        "print(count,count2)"
      ],
      "execution_count": 0,
      "outputs": []
    },
    {
      "cell_type": "code",
      "metadata": {
        "id": "HZKtdmPN33S6",
        "colab_type": "code",
        "colab": {}
      },
      "source": [
        "with open('nytwiki_valid_noNA.txt', 'w', encoding='utf-8') as op_f:\n",
        "  with open('nytwiki_valid.txt', 'r') as f:\n",
        "    for i in f.readlines():\n",
        "      i = json.loads(i)\n",
        "      if i['relation']!='NA':\n",
        "        json.dump(i,)\n",
        "        op_f.write('\\n')"
      ],
      "execution_count": 0,
      "outputs": []
    },
    {
      "cell_type": "code",
      "metadata": {
        "id": "fCoqMEURyJip",
        "colab_type": "code",
        "colab": {
          "base_uri": "https://localhost:8080/",
          "height": 106
        },
        "outputId": "6fbf5edb-d89c-4efe-a9a8-8b767067c3c9"
      },
      "source": [
        "!unzip ../nyt_wikidata.zip"
      ],
      "execution_count": 40,
      "outputs": [
        {
          "output_type": "stream",
          "text": [
            "Archive:  ../nyt_wikidata.zip\n",
            "  inflating: nytwiki_rel2id.json     \n",
            "  inflating: nytwiki_test.txt        \n",
            "  inflating: nytwiki_train.txt       \n",
            "  inflating: nytwiki_valid.txt       \n"
          ],
          "name": "stdout"
        }
      ]
    },
    {
      "cell_type": "code",
      "metadata": {
        "id": "t4hiFyQJOoyj",
        "colab_type": "code",
        "outputId": "a8f40ecc-d543-4493-eea3-cf50e0918617",
        "colab": {
          "base_uri": "https://localhost:8080/",
          "height": 461
        }
      },
      "source": [
        "import sys, json\n",
        "import torch\n",
        "import os\n",
        "import numpy as np\n",
        "import opennre\n",
        "from opennre import encoder, model, framework\n",
        "import argparse\n",
        "\n",
        "# parser = argparse.ArgumentParser()\n",
        "# parser.add_argument('--bag_size', type=int, default=0)\n",
        "# args = parser.parse_args()\n",
        "\n",
        "\n",
        "# Some basic settings\n",
        "root_path = '.'\n",
        "if not os.path.exists('ckpt'):\n",
        "    os.mkdir('ckpt')\n",
        "ckpt = 'ckpt/nytwiki_pcnn_att.pth.tar'\n",
        "\n",
        "# Check data\n",
        "# opennre.download('nyt10', root_path=root_path)\n",
        "# opennre.download('glove', root_path=root_path)\n",
        "rel2id = json.load(open(os.path.join(root_path, 'nytwiki_rel2id.json')))\n",
        "wordi2d = json.load(open(os.path.join(root_path, 'pretrain/glove/glove.6B.50d_word2id.json')))\n",
        "word2vec = np.load(os.path.join(root_path, 'pretrain/glove/glove.6B.50d_mat.npy'))\n",
        "\n",
        "# Define the sentence encoder\n",
        "sentence_encoder = opennre.encoder.PCNNEncoder(\n",
        "    token2id=wordi2d,\n",
        "    max_length=120,\n",
        "    word_size=50,\n",
        "    position_size=5,\n",
        "    hidden_size=230,\n",
        "    blank_padding=True,\n",
        "    kernel_size=3,\n",
        "    padding_size=1,\n",
        "    word2vec=word2vec,\n",
        "    dropout=0.5\n",
        ")\n",
        "\n",
        "# Define the model\n",
        "model = opennre.model.BagAttention(sentence_encoder, len(rel2id), rel2id)\n",
        "\n",
        "# Define the whole training framework\n",
        "framework = opennre.framework.BagRE(\n",
        "    train_path='nytwiki_train.txt',\n",
        "    val_path='nytwiki_valid.txt',\n",
        "    test_path='nytwiki_test.txt',\n",
        "    model=model,\n",
        "    ckpt=ckpt,\n",
        "    batch_size=6,#160\n",
        "    max_epoch=60,\n",
        "    lr=0.5,\n",
        "    weight_decay=0,\n",
        "    opt='sgd',\n",
        "    bag_size = 3)\n",
        "    # bag_size=args.bag_size)\n",
        "\n",
        "# Train the model\n",
        "framework.train_model()\n",
        "\n",
        "# Test the model\n",
        "framework.load_state_dict(torch.load(ckpt)['state_dict'])\n",
        "result = framework.eval_model(framework.test_loader)\n",
        "\n",
        "# Print the result\n",
        "print('AUC on test set: {}'.format(result['auc']))\n",
        "\n"
      ],
      "execution_count": 43,
      "outputs": [
        {
          "output_type": "stream",
          "text": [
            "\r  0%|          | 0/44353 [00:00<?, ?it/s]"
          ],
          "name": "stderr"
        },
        {
          "output_type": "stream",
          "text": [
            "=== Epoch 0 train ===\n"
          ],
          "name": "stdout"
        },
        {
          "output_type": "stream",
          "text": [
            "100%|██████████| 44353/44353 [10:56<00:00, 67.60it/s, acc=0.0387, loss=nan, pos_acc=0.00015]\n",
            "  0%|          | 0/20763 [00:00<?, ?it/s]"
          ],
          "name": "stderr"
        },
        {
          "output_type": "stream",
          "text": [
            "=== Epoch 0 val ===\n"
          ],
          "name": "stdout"
        },
        {
          "output_type": "stream",
          "text": [
            " 13%|█▎        | 2653/20763 [01:08<07:13, 41.78it/s]"
          ],
          "name": "stderr"
        },
        {
          "output_type": "error",
          "ename": "KeyboardInterrupt",
          "evalue": "ignored",
          "traceback": [
            "\u001b[0;31m---------------------------------------------------------------------------\u001b[0m",
            "\u001b[0;31mKeyboardInterrupt\u001b[0m                         Traceback (most recent call last)",
            "\u001b[0;32m<ipython-input-43-16460e874ea0>\u001b[0m in \u001b[0;36m<module>\u001b[0;34m()\u001b[0m\n\u001b[1;32m     58\u001b[0m \u001b[0;34m\u001b[0m\u001b[0m\n\u001b[1;32m     59\u001b[0m \u001b[0;31m# Train the model\u001b[0m\u001b[0;34m\u001b[0m\u001b[0;34m\u001b[0m\u001b[0;34m\u001b[0m\u001b[0m\n\u001b[0;32m---> 60\u001b[0;31m \u001b[0mframework\u001b[0m\u001b[0;34m.\u001b[0m\u001b[0mtrain_model\u001b[0m\u001b[0;34m(\u001b[0m\u001b[0;34m)\u001b[0m\u001b[0;34m\u001b[0m\u001b[0;34m\u001b[0m\u001b[0m\n\u001b[0m\u001b[1;32m     61\u001b[0m \u001b[0;34m\u001b[0m\u001b[0m\n\u001b[1;32m     62\u001b[0m \u001b[0;31m# Test the model\u001b[0m\u001b[0;34m\u001b[0m\u001b[0;34m\u001b[0m\u001b[0;34m\u001b[0m\u001b[0m\n",
            "\u001b[0;32m/content/OpenNRE/opennre/framework/bag_re.py\u001b[0m in \u001b[0;36mtrain_model\u001b[0;34m(self)\u001b[0m\n\u001b[1;32m    143\u001b[0m             \u001b[0;31m# Val\u001b[0m\u001b[0;34m\u001b[0m\u001b[0;34m\u001b[0m\u001b[0;34m\u001b[0m\u001b[0m\n\u001b[1;32m    144\u001b[0m             \u001b[0mprint\u001b[0m\u001b[0;34m(\u001b[0m\u001b[0;34m\"=== Epoch %d val ===\"\u001b[0m \u001b[0;34m%\u001b[0m \u001b[0mepoch\u001b[0m\u001b[0;34m)\u001b[0m\u001b[0;34m\u001b[0m\u001b[0;34m\u001b[0m\u001b[0m\n\u001b[0;32m--> 145\u001b[0;31m             \u001b[0mresult\u001b[0m \u001b[0;34m=\u001b[0m \u001b[0mself\u001b[0m\u001b[0;34m.\u001b[0m\u001b[0meval_model\u001b[0m\u001b[0;34m(\u001b[0m\u001b[0mself\u001b[0m\u001b[0;34m.\u001b[0m\u001b[0mval_loader\u001b[0m\u001b[0;34m)\u001b[0m\u001b[0;34m\u001b[0m\u001b[0;34m\u001b[0m\u001b[0m\n\u001b[0m\u001b[1;32m    146\u001b[0m             \u001b[0mprint\u001b[0m\u001b[0;34m(\u001b[0m\u001b[0;34m\"auc: %.4f\"\u001b[0m \u001b[0;34m%\u001b[0m \u001b[0mresult\u001b[0m\u001b[0;34m[\u001b[0m\u001b[0;34m'auc'\u001b[0m\u001b[0;34m]\u001b[0m\u001b[0;34m)\u001b[0m\u001b[0;34m\u001b[0m\u001b[0;34m\u001b[0m\u001b[0m\n\u001b[1;32m    147\u001b[0m             \u001b[0mprint\u001b[0m\u001b[0;34m(\u001b[0m\u001b[0;34m\"f1: %.4f\"\u001b[0m \u001b[0;34m%\u001b[0m \u001b[0;34m(\u001b[0m\u001b[0mresult\u001b[0m\u001b[0;34m[\u001b[0m\u001b[0;34m'f1'\u001b[0m\u001b[0;34m]\u001b[0m\u001b[0;34m)\u001b[0m\u001b[0;34m)\u001b[0m\u001b[0;34m\u001b[0m\u001b[0;34m\u001b[0m\u001b[0m\n",
            "\u001b[0;32m/content/OpenNRE/opennre/framework/bag_re.py\u001b[0m in \u001b[0;36meval_model\u001b[0;34m(self, eval_loader)\u001b[0m\n\u001b[1;32m    175\u001b[0m                                 \u001b[0;34m'entpair'\u001b[0m\u001b[0;34m:\u001b[0m \u001b[0mbag_name\u001b[0m\u001b[0;34m[\u001b[0m\u001b[0mi\u001b[0m\u001b[0;34m]\u001b[0m\u001b[0;34m[\u001b[0m\u001b[0;34m:\u001b[0m\u001b[0;36m2\u001b[0m\u001b[0;34m]\u001b[0m\u001b[0;34m,\u001b[0m\u001b[0;34m\u001b[0m\u001b[0;34m\u001b[0m\u001b[0m\n\u001b[1;32m    176\u001b[0m                                 \u001b[0;34m'relation'\u001b[0m\u001b[0;34m:\u001b[0m \u001b[0mself\u001b[0m\u001b[0;34m.\u001b[0m\u001b[0mmodel\u001b[0m\u001b[0;34m.\u001b[0m\u001b[0mmodule\u001b[0m\u001b[0;34m.\u001b[0m\u001b[0mid2rel\u001b[0m\u001b[0;34m[\u001b[0m\u001b[0mrelid\u001b[0m\u001b[0;34m]\u001b[0m\u001b[0;34m,\u001b[0m\u001b[0;34m\u001b[0m\u001b[0;34m\u001b[0m\u001b[0m\n\u001b[0;32m--> 177\u001b[0;31m                                 \u001b[0;34m'score'\u001b[0m\u001b[0;34m:\u001b[0m \u001b[0mlogits\u001b[0m\u001b[0;34m[\u001b[0m\u001b[0mi\u001b[0m\u001b[0;34m]\u001b[0m\u001b[0;34m[\u001b[0m\u001b[0mrelid\u001b[0m\u001b[0;34m]\u001b[0m\u001b[0;34m.\u001b[0m\u001b[0mitem\u001b[0m\u001b[0;34m(\u001b[0m\u001b[0;34m)\u001b[0m\u001b[0;34m\u001b[0m\u001b[0;34m\u001b[0m\u001b[0m\n\u001b[0m\u001b[1;32m    178\u001b[0m                             })\n\u001b[1;32m    179\u001b[0m             \u001b[0mresult\u001b[0m \u001b[0;34m=\u001b[0m \u001b[0meval_loader\u001b[0m\u001b[0;34m.\u001b[0m\u001b[0mdataset\u001b[0m\u001b[0;34m.\u001b[0m\u001b[0meval\u001b[0m\u001b[0;34m(\u001b[0m\u001b[0mpred_result\u001b[0m\u001b[0;34m)\u001b[0m\u001b[0;34m\u001b[0m\u001b[0;34m\u001b[0m\u001b[0m\n",
            "\u001b[0;31mKeyboardInterrupt\u001b[0m: "
          ]
        }
      ]
    },
    {
      "cell_type": "code",
      "metadata": {
        "id": "LQR2xENPPG6f",
        "colab_type": "code",
        "outputId": "2ab96984-18d6-4371-f0bf-161dfcb38b91",
        "colab": {
          "base_uri": "https://localhost:8080/",
          "height": 34
        }
      },
      "source": [
        ""
      ],
      "execution_count": 0,
      "outputs": [
        {
          "output_type": "stream",
          "text": [
            "/bin/bash: vim: command not found\n"
          ],
          "name": "stdout"
        }
      ]
    },
    {
      "cell_type": "code",
      "metadata": {
        "id": "dTSFmZZYSwb8",
        "colab_type": "code",
        "colab": {}
      },
      "source": [
        ""
      ],
      "execution_count": 0,
      "outputs": []
    }
  ]
}